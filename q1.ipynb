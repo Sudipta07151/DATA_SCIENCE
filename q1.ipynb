{
 "metadata": {
  "language_info": {
   "codemirror_mode": {
    "name": "ipython",
    "version": 3
   },
   "file_extension": ".py",
   "mimetype": "text/x-python",
   "name": "python",
   "nbconvert_exporter": "python",
   "pygments_lexer": "ipython3",
   "version": "3.8.5"
  },
  "orig_nbformat": 2,
  "kernelspec": {
   "name": "python385jvsc74a57bd0aeba4d93621006c031d13f23eaacb3cde09f37a3b501c753a832eed285dc46e9",
   "display_name": "Python 3.8.5 32-bit"
  }
 },
 "nbformat": 4,
 "nbformat_minor": 2,
 "cells": [
  {
   "cell_type": "code",
   "execution_count": 25,
   "metadata": {},
   "outputs": [
    {
     "output_type": "stream",
     "name": "stdout",
     "text": [
      "[19.61904762 26.5047619  33.39047619 40.27619048 47.16190476 54.04761905]\n"
     ]
    }
   ],
   "source": [
    "'''\n",
    "Six children aged 9, 11, 13, 15, 17 and 19 years old weigh 20, 25,\n",
    "32, 44, 48 and 52 kilograms respectively. Find the equation of the\n",
    "regression line of age on weight. Based on this data, what is the\n",
    "approximate weight of a twelve year old child\n",
    "'''\n",
    "\n",
    "import numpy as np\n",
    "\n",
    "def get_linear_regression():\n",
    "    childrenAge=np.array([9, 11, 13, 15, 17 ,19])\n",
    "    childrenWeight=np.array([20, 25,32, 44, 48, 52]) \n",
    "    exp1=(sum(childrenAge*childrenWeight))*childrenAge.size\n",
    "    exp2=sum(childrenAge)*sum(childrenWeight)\n",
    "    exp3=(sum(childrenAge*childrenAge))*childrenAge.size\n",
    "    exp4=pow(sum(childrenAge),2)\n",
    "    slope=(exp1-exp2)/(exp3-exp4)\n",
    "    intercept=(sum(childrenWeight)-(slope*sum(childrenAge)))/childrenAge.size\n",
    "    #y_hat=slope*x+intercept\n",
    "    #y_hat=3.44*x+(-11.36)\n",
    "    y_hat_expected=slope*childrenAge+intercept\n",
    "    print(y_hat_expected)\n",
    "def main():\n",
    "    get_linear_regression()\n",
    "main()"
   ]
  },
  {
   "cell_type": "code",
   "execution_count": null,
   "metadata": {},
   "outputs": [],
   "source": []
  }
 ]
}